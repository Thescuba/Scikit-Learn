{
 "cells": [
  {
   "cell_type": "markdown",
   "metadata": {},
   "source": [
    "<small><i>This notebook was put together by [Steve Tang](https://stevetang92.wordpress.com/) A helpful data can be found at [GitHub](https://github.com/jakevdp/sklearn_pycon2014/).</i></small>"
   ]
  },
  {
   "cell_type": "markdown",
   "metadata": {},
   "source": [
    "# Checking Your Installation\n",
    "If you wanted to run the code on yoru own, you will need the following packages:\n",
    "- Python (>= 2.6 or >= 3.3)\n",
    "- NumPy (>= 1.6.1)\n",
    "- SciPy (>= 0.9)\n",
    "- matplotlib (>=1.3) \n"
   ]
  },
  {
   "cell_type": "code",
   "execution_count": 1,
   "metadata": {
    "collapsed": false
   },
   "outputs": [
    {
     "name": "stdout",
     "output_type": "stream",
     "text": [
      "IPython: 4.0.0\n",
      "numpy: 1.9.2\n",
      "scipy: 0.15.1\n",
      "matplotlib: 1.4.3\n",
      "scikit-learn: 0.16.1\n"
     ]
    }
   ],
   "source": [
    "from __future__ import print_function\n",
    "\n",
    "import IPython\n",
    "print('IPython:', IPython.__version__)\n",
    "\n",
    "import numpy\n",
    "print('numpy:', numpy.__version__)\n",
    "\n",
    "import scipy\n",
    "print('scipy:', scipy.__version__)\n",
    "\n",
    "import matplotlib\n",
    "print('matplotlib:', matplotlib.__version__)\n",
    "\n",
    "import sklearn\n",
    "print('scikit-learn:', sklearn.__version__)"
   ]
  },
  {
   "cell_type": "markdown",
   "metadata": {},
   "source": [
    "## Simple Changes\n",
    "Below is an example of a the iris dataset being trained by a K nearist neighbefor classifer. The code below it is only slightly modified, the modifications allow it to train a support vector classifer. Scikit-Learn allows us to just change a couple lines of code to train our data."
   ]
  },
  {
   "cell_type": "code",
   "execution_count": 2,
   "metadata": {
    "collapsed": false,
    "scrolled": true
   },
   "outputs": [
    {
     "name": "stdout",
     "output_type": "stream",
     "text": [
      "KNeighbors Classifier predicts unknown_iris to be of type: ['virginica']\n"
     ]
    }
   ],
   "source": [
    "from sklearn import neighbors, datasets\n",
    "# Just a randomly set of parameters\n",
    "unknown_iris = [[3, 5, 4, 2]]\n",
    "# Load the iris dataset\n",
    "iris = datasets.load_iris()\n",
    "# Assign the features and classifiation\n",
    "X, y = iris.data, iris.target\n",
    "# Choosing KNeighbors as Classifier\n",
    "clf = neighbors.KNeighborsClassifier(n_neighbors=1)\n",
    "# Train Classifier\n",
    "clf.fit(X, y)\n",
    "# Print out the which iris the classifier predicts it to be.\n",
    "print ('KNeighbors Classifier predicts unknown_iris to be of type:', iris.target_names[clf.predict(unknown_iris)])"
   ]
  },
  {
   "cell_type": "code",
   "execution_count": 3,
   "metadata": {
    "collapsed": false
   },
   "outputs": [
    {
     "name": "stdout",
     "output_type": "stream",
     "text": [
      "Support Vector Classifier predicts unknown_iris to be of type: ['virginica']\n"
     ]
    }
   ],
   "source": [
    "from sklearn import datasets\n",
    "from sklearn.svm import SVC\n",
    "# Just a randomly set of parameters\n",
    "unknown_iris = [[3, 5, 4, 2]]\n",
    "# Load the iris dataset\n",
    "iris = datasets.load_iris()\n",
    "# Assign the features and classifiation\n",
    "X, y = iris.data, iris.target\n",
    "# Choosing Support Vectors as Classifier\n",
    "clf = SVC()\n",
    "# Train Classifier\n",
    "clf.fit(X, y) \n",
    "# Print out the which iris the classifier predicts it to be.\n",
    "print('Support Vector Classifier predicts unknown_iris to be of type:', iris.target_names[clf.predict(unknown_iris)])"
   ]
  },
  {
   "cell_type": "markdown",
   "metadata": {},
   "source": [
    "## Digits Dataset\n",
    "Scikit-Learn has a digit dataset that is simular to Mnist data set given in Andrew Ng's Coursea class on Machine Learning."
   ]
  },
  {
   "cell_type": "code",
   "execution_count": 4,
   "metadata": {
    "collapsed": false
   },
   "outputs": [
    {
     "name": "stdout",
     "output_type": "stream",
     "text": [
      "(1797, 64)\n",
      "(1797,)\n"
     ]
    }
   ],
   "source": [
    "%matplotlib inline\n",
    "import matplotlib.pyplot as plt\n",
    "import numpy as np\n",
    "from sklearn.datasets import load_digits\n",
    "# Loads the data for digits\n",
    "digits = load_digits()\n",
    "# Gives us information on the dataset\n",
    "digits.keys()\n",
    "\n",
    "# Gives us the dimensions of the input data\n",
    "X = digits.data\n",
    "# Gives us the dimensions of the output data\n",
    "y = digits.target\n",
    "print(X.shape)\n",
    "print(y.shape)\n",
    "\n",
    "\n",
    "\n"
   ]
  },
  {
   "cell_type": "code",
   "execution_count": 5,
   "metadata": {
    "collapsed": false
   },
   "outputs": [
    {
     "data": {
      "image/png": "[encoded data removed]",
      "text/plain": [
       "<matplotlib.figure.Figure at 0x84a4750>"
      ]
     },
     "metadata": {},
     "output_type": "display_data"
    }
   ],
   "source": [
    "import matplotlib.pyplot as plt\n",
    "# Set up the figure\n",
    "fig = plt.figure(figsize=(6, 6))  # figure size in inches\n",
    "fig.subplots_adjust(left=0, right=1, bottom=0, top=1, hspace=0.05, wspace=0.05)\n",
    "\n",
    "# Plot the digits: each image is 8x8 pixels\n",
    "for i in range(64):\n",
    "    ax = fig.add_subplot(8, 8, i + 1, xticks=[], yticks=[])\n",
    "    ax.imshow(digits.images[i], cmap=plt.cm.binary, interpolation='nearest')\n",
    "    \n",
    "    # label the image with the target value\n",
    "    ax.text(0, 7, str(digits.target[i]))\n"
   ]
  },
  {
   "cell_type": "markdown",
   "metadata": {},
   "source": [
    "## Results of Difference Trials with SVMs and Random Forest \n",
    "With SVM We tried two different kernels: linear and radial basis function. While with random Random Forest Classifier we change the depth to see if we could see how increasing depth could help with over fitting."
   ]
  },
  {
   "cell_type": "code",
   "execution_count": 6,
   "metadata": {
    "collapsed": false
   },
   "outputs": [
    {
     "name": "stdout",
     "output_type": "stream",
     "text": [
      "SVC: kernel = linear\n",
      "Accuracy = 0.971111111111\n",
      "SVC: kernel = rbf\n",
      "Accuracy = 0.486666666667\n",
      "RF: max_depth = 4\n",
      "Accuracy = 0.848888888889\n",
      "RF: max_depth = 8\n",
      "Accuracy = 0.937777777778\n",
      "RF: max_depth = 12\n",
      "Accuracy = 0.944444444444\n"
     ]
    },
    {
     "data": {
      "image/png": "[encoded data removed]",
      "text/plain": [
       "<matplotlib.figure.Figure at 0x5e04b70>"
      ]
     },
     "metadata": {},
     "output_type": "display_data"
    },
    {
     "data": {
      "image/png": "[encoded data removed]",
      "text/plain": [
       "<matplotlib.figure.Figure at 0x8e35990>"
      ]
     },
     "metadata": {},
     "output_type": "display_data"
    },
    {
     "data": {
      "image/png": "[encoded data removed]",
      "text/plain": [
       "<matplotlib.figure.Figure at 0x2e809b0>"
      ]
     },
     "metadata": {},
     "output_type": "display_data"
    },
    {
     "data": {
      "image/png": "[encoded data removed]",
      "text/plain": [
       "<matplotlib.figure.Figure at 0x91cc770>"
      ]
     },
     "metadata": {},
     "output_type": "display_data"
    },
    {
     "data": {
      "image/png": "[encoded data removed]",
      "text/plain": [
       "<matplotlib.figure.Figure at 0x9049f10>"
      ]
     },
     "metadata": {},
     "output_type": "display_data"
    }
   ],
   "source": [
    "from sklearn.svm import SVC\n",
    "from sklearn import metrics\n",
    "from sklearn.cross_validation import train_test_split\n",
    "from sklearn.ensemble import RandomForestClassifier\n",
    "\n",
    "\n",
    "\n",
    "# Divide data into test and traing datasets \n",
    "Xtrain, Xtest, ytrain, ytest = train_test_split(X, y, random_state=0)\n",
    "\n",
    "# Running SVM with linear and radial basis function\n",
    "for kernel in ['linear', 'rbf']:\n",
    "    #Traing the model with Xtrain and ytrain\n",
    "    clf = SVC(kernel=kernel).fit(Xtrain, ytrain)\n",
    "    # Use trained Classifer to predict the test set\n",
    "    ypred = clf.predict(Xtest)\n",
    "    print(\"SVC: kernel = {0}\".format(kernel))\n",
    "    print(\"Accuracy =\", metrics.accuracy_score(ytest, ypred))\n",
    "    plt.figure()\n",
    "    #Returns a graph of the confusion matrix to help us visualize errros if any. \n",
    "    plt.imshow(metrics.confusion_matrix(ypred, ytest),\n",
    "               interpolation='nearest', cmap=plt.cm.binary)\n",
    "    plt.colorbar()\n",
    "    plt.xlabel(\"True label\")\n",
    "    plt.ylabel(\"Predicted label\")\n",
    "    plt.title(\"SVC: kernel = {0}\".format(kernel))\n",
    "    \n",
    "#Running RandomForestClassifier\n",
    "for max_depth in [4, 8, 12]:\n",
    "    #Traing the model with Xtrain and ytrain\n",
    "    clf = RandomForestClassifier(max_depth=max_depth).fit(Xtrain, ytrain)\n",
    "    # Use trained Classifer to predict the test set\n",
    "    ypred = clf.predict(Xtest)\n",
    "    print(\"RF: max_depth = {0}\".format(max_depth))\n",
    "    print(\"Accuracy =\", metrics.accuracy_score(ytest, ypred))\n",
    "    plt.figure()\n",
    "    #Returns a graph of the confusion matrix to help us visualize errros if any. \n",
    "    plt.imshow(metrics.confusion_matrix(ypred, ytest),\n",
    "               interpolation='nearest', cmap=plt.cm.binary)\n",
    "    plt.colorbar()\n",
    "    plt.xlabel(\"True label\")\n",
    "    plt.ylabel(\"Predicted label\")\n",
    "    plt.title(\" RandomForest: Depth = {0}\".format(max_depth))"
   ]
  },
  {
   "cell_type": "markdown",
   "metadata": {},
   "source": [
    "# Comparing Different Estimators\n",
    "Sometimes it not always best to go just off of accuracy beacuse a dataset coule be may be 99 examples negitive resutls and one positive result. If you were to simply always guess negitive it would be 99 percent accurate but this would be a terrble way to go about the problem.   The code below will allow you test out RandomForestClassifier, KNeighborsClassifier, GaussianNB and  SVC with defult settings. It will return precision, recall and f1-score."
   ]
  },
  {
   "cell_type": "code",
   "execution_count": 7,
   "metadata": {
    "collapsed": false
   },
   "outputs": [
    {
     "name": "stdout",
     "output_type": "stream",
     "text": [
      "-------------------------------------------\n",
      "RandomForestClassifier\n",
      "             precision    recall  f1-score   support\n",
      "\n",
      "          0       1.00      0.93      0.96        40\n",
      "          1       1.00      0.88      0.93        49\n",
      "          2       0.93      1.00      0.96        41\n",
      "          3       0.96      0.93      0.95        46\n",
      "          4       0.97      0.97      0.97        38\n",
      "          5       0.96      0.96      0.96        48\n",
      "          6       0.94      1.00      0.97        49\n",
      "          7       1.00      0.98      0.99        49\n",
      "          8       0.94      1.00      0.97        45\n",
      "          9       0.91      0.96      0.93        45\n",
      "\n",
      "avg / total       0.96      0.96      0.96       450\n",
      "\n",
      "-------------------------------------------\n",
      "KNeighborsClassifier\n",
      "             precision    recall  f1-score   support\n",
      "\n",
      "          0       1.00      1.00      1.00        37\n",
      "          1       0.98      0.98      0.98        43\n",
      "          2       0.98      1.00      0.99        43\n",
      "          3       1.00      0.96      0.98        47\n",
      "          4       0.97      1.00      0.99        37\n",
      "          5       0.98      0.96      0.97        49\n",
      "          6       1.00      0.98      0.99        53\n",
      "          7       1.00      0.96      0.98        50\n",
      "          8       0.92      1.00      0.96        44\n",
      "          9       0.98      0.98      0.98        47\n",
      "\n",
      "avg / total       0.98      0.98      0.98       450\n",
      "\n",
      "-------------------------------------------\n",
      "GaussianNB\n",
      "             precision    recall  f1-score   support\n",
      "\n",
      "          0       1.00      1.00      1.00        37\n",
      "          1       0.91      0.68      0.78        57\n",
      "          2       0.39      1.00      0.56        17\n",
      "          3       0.84      0.76      0.80        50\n",
      "          4       0.71      0.93      0.81        29\n",
      "          5       0.90      0.98      0.93        44\n",
      "          6       1.00      0.95      0.97        55\n",
      "          7       0.98      0.70      0.82        67\n",
      "          8       0.77      0.55      0.64        67\n",
      "          9       0.57      1.00      0.73        27\n",
      "\n",
      "avg / total       0.86      0.81      0.81       450\n",
      "\n",
      "-------------------------------------------\n",
      "SVC\n",
      "             precision    recall  f1-score   support\n",
      "\n",
      "          0       0.65      1.00      0.79        24\n",
      "          1       0.23      1.00      0.38        10\n",
      "          2       0.39      1.00      0.56        17\n",
      "          3       0.93      1.00      0.97        42\n",
      "          4       1.00      0.14      0.25       269\n",
      "          5       0.33      1.00      0.50        16\n",
      "          6       0.54      1.00      0.70        28\n",
      "          7       0.35      1.00      0.52        17\n",
      "          8       0.02      1.00      0.04         1\n",
      "          9       0.55      1.00      0.71        26\n",
      "\n",
      "avg / total       0.83      0.49      0.43       450\n",
      "\n"
     ]
    }
   ],
   "source": [
    "from sklearn.neighbors import KNeighborsClassifier\n",
    "from sklearn.naive_bayes import GaussianNB\n",
    "from sklearn import metrics\n",
    "from sklearn.svm import SVC\n",
    "from sklearn.ensemble import RandomForestClassifier\n",
    "from sklearn.cross_validation import train_test_split\n",
    "from sklearn.datasets import load_digits\n",
    "\n",
    "# Loads the data for digits\n",
    "digits = load_digits()\n",
    "# Gives us the dimensions of the input data\n",
    "X = digits.data\n",
    "# Gives us the dimensions of the output data\n",
    "y = digits.target\n",
    "# Divide data into test and traing datasets \n",
    "Xtrain, Xtest, ytrain, ytest = train_test_split(X, y, random_state=0)\n",
    "\n",
    "# Run through each of the classifiers and prints precision, recall and f1-score\n",
    "for Class in [RandomForestClassifier, KNeighborsClassifier, GaussianNB, SVC]:\n",
    "    cls = Class().fit(Xtrain, ytrain)\n",
    "    ypred = cls.predict(Xtest)\n",
    "    print(\"-------------------------------------------\")\n",
    "    print(Class.__name__)\n",
    "    print(metrics.classification_report(ypred, ytest))\n",
    "\n",
    "\n"
   ]
  },
  {
   "cell_type": "markdown",
   "metadata": {},
   "source": [
    "# Results\n",
    "\n",
    "# Random Forest\n",
    "Random Forest classification did pretty well lowest percision was 0.92 and lowest percision was 0.90 so we did pretty well. Averages of percision, recall and f1 score were all 95 percent.\n",
    "\n",
    "# KNeighbors Classifier\n",
    "KNeighbors classifier out did Random Forest with 0.98 in percision, recall and f1 score so Kneighbors Classifier seems to work well, but later one we will over a possible problem of over fitting. \n",
    "\n",
    "# GaussianNB\n",
    "Gaussian Naive Bayes had a little more trouble compared to Random Forest and KNeighbors, we can see taht precision was really low in identifying twos with a precision of .39 meaning that we have miss classified a large number of digits as twos but they were really some other digit. Also we had a .55 recall for our results on eights meaning classified a large number of eights as a different digit. Our overall f1 score was  0.81 so a decent score but we can see that with defult setting the previous two classifiers would be better.\n",
    "\n",
    "GaussianNB\n",
    "             precision    recall  f1-score   support\n",
    "\n",
    "          0       1.00      1.00      1.00        37\n",
    "          1       0.91      0.68      0.78        57\n",
    "          2       0.39      1.00      0.56        17\n",
    "          3       0.84      0.76      0.80        50\n",
    "          4       0.71      0.93      0.81        29\n",
    "          5       0.90      0.98      0.93        44\n",
    "          6       1.00      0.95      0.97        55\n",
    "          7       0.98      0.70      0.82        67\n",
    "          8       0.77      0.55      0.64        67\n",
    "          9       0.57      1.00      0.73        27\n",
    "\n",
    "avg / total       0.86      0.81      0.81       450\n",
    "\n",
    "\n",
    "# SVC\n",
    "\n",
    "Using Suppport Vector Clasification can see that on average we can expect decent percision but recall on the other hand is not as good. We can see that SVC really stuggled with the digit 4 having precision at 1.0 means didnt label anyone digit a 4 unless it was actaully a 4 but a recall of .14 meaning we miss labeled a lot of our fours as a different digit\n",
    "SVC\n",
    "             precision    recall  f1-score   support\n",
    "\n",
    "          0       0.65      1.00      0.79        24\n",
    "          1       0.23      1.00      0.38        10\n",
    "          2       0.39      1.00      0.56        17\n",
    "          3       0.93      1.00      0.97        42\n",
    "          4       1.00      0.14      0.25       269\n",
    "          5       0.33      1.00      0.50        16\n",
    "          6       0.54      1.00      0.70        28\n",
    "          7       0.35      1.00      0.52        17\n",
    "          8       0.02      1.00      0.04         1\n",
    "          9       0.55      1.00      0.71        26\n",
    "\n",
    "avg / total       0.83      0.49      0.43       450"
   ]
  },
  {
   "cell_type": "code",
   "execution_count": null,
   "metadata": {
    "collapsed": true
   },
   "outputs": [],
   "source": []
  }
 ],
 "metadata": {
  "kernelspec": {
   "display_name": "Python 3",
   "language": "python",
   "name": "python3"
  },
  "language_info": {
   "codemirror_mode": {
    "name": "ipython",
    "version": 3
   },
   "file_extension": ".py",
   "mimetype": "text/x-python",
   "name": "python",
   "nbconvert_exporter": "python",
   "pygments_lexer": "ipython3",
   "version": "3.4.3"
  }
 },
 "nbformat": 4,
 "nbformat_minor": 0
}
